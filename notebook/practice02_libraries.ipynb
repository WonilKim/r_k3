{
 "cells": [
  {
   "cell_type": "code",
   "execution_count": 1,
   "metadata": {
    "vscode": {
     "languageId": "r"
    }
   },
   "outputs": [
    {
     "name": "stderr",
     "output_type": "stream",
     "text": [
      "'C:/Users/nonel/Documents/R/win-library/4.1'의 위치에 패키지(들)을 설치합니다.\n",
      "(왜냐하면 'lib'가 지정되지 않았기 때문입니다)\n",
      "\n",
      "'conflicted', 'ragg', 'readxl'(들)을 또한 설치합니다.\n",
      "\n",
      "\n"
     ]
    },
    {
     "name": "stdout",
     "output_type": "stream",
     "text": [
      "package 'conflicted' successfully unpacked and MD5 sums checked\n",
      "package 'ragg' successfully unpacked and MD5 sums checked\n",
      "package 'readxl' successfully unpacked and MD5 sums checked\n",
      "package 'tidyverse' successfully unpacked and MD5 sums checked\n",
      "\n",
      "The downloaded binary packages are in\n",
      "\tC:\\Users\\nonel\\AppData\\Local\\Temp\\Rtmpk3aFHH\\downloaded_packages\n"
     ]
    }
   ],
   "source": [
    "install.packages(\"tidyverse\")"
   ]
  },
  {
   "cell_type": "code",
   "execution_count": 2,
   "metadata": {
    "vscode": {
     "languageId": "r"
    }
   },
   "outputs": [
    {
     "ename": "ERROR",
     "evalue": "Error: package or namespace load failed for 'tidyverse':\n .onAttach가 attachNamespace()에서 'tidyverse'때문에 실패했습니다:\n  호출: NULL\n  에러: package or namespace load failed for 'ggplot2' in loadNamespace(i, c(lib.loc, .libPaths()), versionCheck = vI[[i]]):\n 네임스페이스 'rlang' 1.0.6는 이미 로드되었으나 >= 1.1.0가 필요합니다\n",
     "output_type": "error",
     "traceback": [
      "Error: package or namespace load failed for 'tidyverse':\n .onAttach가 attachNamespace()에서 'tidyverse'때문에 실패했습니다:\n  호출: NULL\n  에러: package or namespace load failed for 'ggplot2' in loadNamespace(i, c(lib.loc, .libPaths()), versionCheck = vI[[i]]):\n 네임스페이스 'rlang' 1.0.6는 이미 로드되었으나 >= 1.1.0가 필요합니다\nTraceback:\n",
      "1. library(tidyverse)",
      "2. tryCatch({\n .     attr(package, \"LibPath\") <- which.lib.loc\n .     ns <- loadNamespace(package, lib.loc)\n .     env <- attachNamespace(ns, pos = pos, deps, exclude, include.only)\n . }, error = function(e) {\n .     P <- if (!is.null(cc <- conditionCall(e))) \n .         paste(\" in\", deparse(cc)[1L])\n .     else \"\"\n .     msg <- gettextf(\"package or namespace load failed for %s%s:\\n %s\", \n .         sQuote(package), P, conditionMessage(e))\n .     if (logical.return && !quietly) \n .         message(paste(\"Error:\", msg), domain = NA)\n .     else stop(msg, call. = FALSE, domain = NA)\n . })",
      "3. tryCatchList(expr, classes, parentenv, handlers)",
      "4. tryCatchOne(expr, names, parentenv, handlers[[1L]])",
      "5. value[[3L]](cond)",
      "6. stop(msg, call. = FALSE, domain = NA)"
     ]
    }
   ],
   "source": [
    "library(tidyverse)"
   ]
  },
  {
   "cell_type": "code",
   "execution_count": 1,
   "metadata": {
    "vscode": {
     "languageId": "r"
    }
   },
   "outputs": [
    {
     "name": "stderr",
     "output_type": "stream",
     "text": [
      "패키지(들)을 'C:/Users/nonel/Documents/R/win-library/4.1'으로부터 제거합니다\n",
      "(왜냐하면 'lib'가 지정되지 않았기 때문입니다)\n",
      "\n"
     ]
    },
    {
     "ename": "ERROR",
     "evalue": "Error in find.package(pkgs, lib): 'rlang'이라고 불리는 패키지가 없습니다\n",
     "output_type": "error",
     "traceback": [
      "Error in find.package(pkgs, lib): 'rlang'이라고 불리는 패키지가 없습니다\nTraceback:\n",
      "1. remove.packages(\"rlang\")",
      "2. find.package(pkgs, lib)"
     ]
    }
   ],
   "source": [
    "remove.packages(\"rlang\")"
   ]
  },
  {
   "cell_type": "code",
   "execution_count": 2,
   "metadata": {
    "vscode": {
     "languageId": "r"
    }
   },
   "outputs": [
    {
     "name": "stderr",
     "output_type": "stream",
     "text": [
      "'C:/Users/nonel/Documents/R/win-library/4.1'의 위치에 패키지(들)을 설치합니다.\n",
      "(왜냐하면 'lib'가 지정되지 않았기 때문입니다)\n",
      "\n"
     ]
    },
    {
     "name": "stdout",
     "output_type": "stream",
     "text": [
      "\n",
      "  There is a binary version available but the source version is later:\n",
      "      binary source needs_compilation\n",
      "rlang  1.1.0  1.1.1              TRUE\n",
      "\n",
      "  Binaries will be installed\n",
      "package 'rlang' successfully unpacked and MD5 sums checked\n",
      "\n",
      "The downloaded binary packages are in\n",
      "\tC:\\Users\\nonel\\AppData\\Local\\Temp\\RtmpCWTiLa\\downloaded_packages\n"
     ]
    }
   ],
   "source": [
    "install.packages(\"rlang\")"
   ]
  },
  {
   "cell_type": "code",
   "execution_count": 3,
   "metadata": {
    "vscode": {
     "languageId": "r"
    }
   },
   "outputs": [
    {
     "name": "stderr",
     "output_type": "stream",
     "text": [
      "패키지(들)을 'C:/Users/nonel/Documents/R/win-library/4.1'으로부터 제거합니다\n",
      "(왜냐하면 'lib'가 지정되지 않았기 때문입니다)\n",
      "\n"
     ]
    }
   ],
   "source": [
    "remove.packages(\"tidyverse\")"
   ]
  },
  {
   "cell_type": "code",
   "execution_count": 4,
   "metadata": {
    "vscode": {
     "languageId": "r"
    }
   },
   "outputs": [
    {
     "name": "stderr",
     "output_type": "stream",
     "text": [
      "'C:/Users/nonel/Documents/R/win-library/4.1'의 위치에 패키지(들)을 설치합니다.\n",
      "(왜냐하면 'lib'가 지정되지 않았기 때문입니다)\n",
      "\n"
     ]
    },
    {
     "name": "stdout",
     "output_type": "stream",
     "text": [
      "package 'tidyverse' successfully unpacked and MD5 sums checked\n",
      "\n",
      "The downloaded binary packages are in\n",
      "\tC:\\Users\\nonel\\AppData\\Local\\Temp\\RtmpCWTiLa\\downloaded_packages\n"
     ]
    }
   ],
   "source": [
    "install.packages(\"tidyverse\")"
   ]
  },
  {
   "cell_type": "code",
   "execution_count": 5,
   "metadata": {
    "vscode": {
     "languageId": "r"
    }
   },
   "outputs": [
    {
     "ename": "ERROR",
     "evalue": "Error: package or namespace load failed for 'tidyverse':\n .onAttach가 attachNamespace()에서 'tidyverse'때문에 실패했습니다:\n  호출: NULL\n  에러: package or namespace load failed for 'tidyr' in loadNamespace(i, c(lib.loc, .libPaths()), versionCheck = vI[[i]]):\n 네임스페이스 'vctrs' 0.5.1는 이미 로드되었으나 >= 0.5.2가 필요합니다\n",
     "output_type": "error",
     "traceback": [
      "Error: package or namespace load failed for 'tidyverse':\n .onAttach가 attachNamespace()에서 'tidyverse'때문에 실패했습니다:\n  호출: NULL\n  에러: package or namespace load failed for 'tidyr' in loadNamespace(i, c(lib.loc, .libPaths()), versionCheck = vI[[i]]):\n 네임스페이스 'vctrs' 0.5.1는 이미 로드되었으나 >= 0.5.2가 필요합니다\nTraceback:\n",
      "1. library(tidyverse)",
      "2. tryCatch({\n .     attr(package, \"LibPath\") <- which.lib.loc\n .     ns <- loadNamespace(package, lib.loc)\n .     env <- attachNamespace(ns, pos = pos, deps, exclude, include.only)\n . }, error = function(e) {\n .     P <- if (!is.null(cc <- conditionCall(e))) \n .         paste(\" in\", deparse(cc)[1L])\n .     else \"\"\n .     msg <- gettextf(\"package or namespace load failed for %s%s:\\n %s\", \n .         sQuote(package), P, conditionMessage(e))\n .     if (logical.return && !quietly) \n .         message(paste(\"Error:\", msg), domain = NA)\n .     else stop(msg, call. = FALSE, domain = NA)\n . })",
      "3. tryCatchList(expr, classes, parentenv, handlers)",
      "4. tryCatchOne(expr, names, parentenv, handlers[[1L]])",
      "5. value[[3L]](cond)",
      "6. stop(msg, call. = FALSE, domain = NA)"
     ]
    }
   ],
   "source": [
    "library(tidyverse)"
   ]
  },
  {
   "cell_type": "code",
   "execution_count": 6,
   "metadata": {
    "vscode": {
     "languageId": "r"
    }
   },
   "outputs": [
    {
     "name": "stderr",
     "output_type": "stream",
     "text": [
      "패키지(들)을 'C:/Users/nonel/Documents/R/win-library/4.1'으로부터 제거합니다\n",
      "(왜냐하면 'lib'가 지정되지 않았기 때문입니다)\n",
      "\n",
      "'C:/Users/nonel/Documents/R/win-library/4.1'의 위치에 패키지(들)을 설치합니다.\n",
      "(왜냐하면 'lib'가 지정되지 않았기 때문입니다)\n",
      "\n"
     ]
    },
    {
     "name": "stdout",
     "output_type": "stream",
     "text": [
      "\n",
      "  There is a binary version available but the source version is later:\n",
      "      binary source needs_compilation\n",
      "vctrs  0.6.1  0.6.3              TRUE\n",
      "\n",
      "  Binaries will be installed\n",
      "package 'vctrs' successfully unpacked and MD5 sums checked\n"
     ]
    },
    {
     "name": "stderr",
     "output_type": "stream",
     "text": [
      "Warning message:\n",
      "\"cannot remove prior installation of package 'vctrs'\"\n",
      "Warning message in file.copy(savedcopy, lib, recursive = TRUE):\n",
      "\"C:\\Users\\nonel\\Documents\\R\\win-library\\4.1\\00LOCK\\vctrs\\libs\\x64\\vctrs.dll를 C:\\Users\\nonel\\Documents\\R\\win-library\\4.1\\vctrs\\libs\\x64\\vctrs.dll로 복사하는데 문제가 발생했습니다: Permission denied\"\n",
      "Warning message:\n",
      "\"restored 'vctrs'\"\n"
     ]
    },
    {
     "name": "stdout",
     "output_type": "stream",
     "text": [
      "\n",
      "The downloaded binary packages are in\n",
      "\tC:\\Users\\nonel\\AppData\\Local\\Temp\\RtmpCWTiLa\\downloaded_packages\n"
     ]
    }
   ],
   "source": [
    "remove.packages(\"vctrs\")\n",
    "install.packages(\"vctrs\")"
   ]
  },
  {
   "cell_type": "code",
   "execution_count": 1,
   "metadata": {
    "vscode": {
     "languageId": "r"
    }
   },
   "outputs": [
    {
     "name": "stderr",
     "output_type": "stream",
     "text": [
      "패키지(들)을 'C:/Users/nonel/Documents/R/win-library/4.1'으로부터 제거합니다\n",
      "(왜냐하면 'lib'가 지정되지 않았기 때문입니다)\n",
      "\n"
     ]
    },
    {
     "ename": "ERROR",
     "evalue": "Error in find.package(pkgs, lib): 'tidyverse'이라고 불리는 패키지가 없습니다\n",
     "output_type": "error",
     "traceback": [
      "Error in find.package(pkgs, lib): 'tidyverse'이라고 불리는 패키지가 없습니다\nTraceback:\n",
      "1. remove.packages(\"tidyverse\")",
      "2. find.package(pkgs, lib)"
     ]
    }
   ],
   "source": [
    "remove.packages(\"tidyverse\")"
   ]
  },
  {
   "cell_type": "code",
   "execution_count": 3,
   "metadata": {
    "vscode": {
     "languageId": "r"
    }
   },
   "outputs": [
    {
     "name": "stderr",
     "output_type": "stream",
     "text": [
      "'C:/Users/nonel/Documents/R/win-library/4.1'의 위치에 패키지(들)을 설치합니다.\n",
      "(왜냐하면 'lib'가 지정되지 않았기 때문입니다)\n",
      "\n"
     ]
    },
    {
     "name": "stdout",
     "output_type": "stream",
     "text": [
      "package 'tidyverse' successfully unpacked and MD5 sums checked\n",
      "\n",
      "The downloaded binary packages are in\n",
      "\tC:\\Users\\nonel\\AppData\\Local\\Temp\\Rtmp8KsfBc\\downloaded_packages\n"
     ]
    }
   ],
   "source": [
    "install.packages(\"tidyverse\")"
   ]
  },
  {
   "cell_type": "code",
   "execution_count": 4,
   "metadata": {
    "vscode": {
     "languageId": "r"
    }
   },
   "outputs": [
    {
     "ename": "ERROR",
     "evalue": "Error: package or namespace load failed for 'tidyverse':\n .onAttach가 attachNamespace()에서 'tidyverse'때문에 실패했습니다:\n  호출: NULL\n  에러: package or namespace load failed for 'tidyr' in loadNamespace(j <- i[[1L]], c(lib.loc, .libPaths()), versionCheck = vI[[j]]):\n 네임스페이스 'pillar' 1.8.1는 이미 로드되었으나 >= 1.9.0가 필요합니다\n",
     "output_type": "error",
     "traceback": [
      "Error: package or namespace load failed for 'tidyverse':\n .onAttach가 attachNamespace()에서 'tidyverse'때문에 실패했습니다:\n  호출: NULL\n  에러: package or namespace load failed for 'tidyr' in loadNamespace(j <- i[[1L]], c(lib.loc, .libPaths()), versionCheck = vI[[j]]):\n 네임스페이스 'pillar' 1.8.1는 이미 로드되었으나 >= 1.9.0가 필요합니다\nTraceback:\n",
      "1. library(tidyverse)",
      "2. tryCatch({\n .     attr(package, \"LibPath\") <- which.lib.loc\n .     ns <- loadNamespace(package, lib.loc)\n .     env <- attachNamespace(ns, pos = pos, deps, exclude, include.only)\n . }, error = function(e) {\n .     P <- if (!is.null(cc <- conditionCall(e))) \n .         paste(\" in\", deparse(cc)[1L])\n .     else \"\"\n .     msg <- gettextf(\"package or namespace load failed for %s%s:\\n %s\", \n .         sQuote(package), P, conditionMessage(e))\n .     if (logical.return && !quietly) \n .         message(paste(\"Error:\", msg), domain = NA)\n .     else stop(msg, call. = FALSE, domain = NA)\n . })",
      "3. tryCatchList(expr, classes, parentenv, handlers)",
      "4. tryCatchOne(expr, names, parentenv, handlers[[1L]])",
      "5. value[[3L]](cond)",
      "6. stop(msg, call. = FALSE, domain = NA)"
     ]
    }
   ],
   "source": [
    "library(tidyverse)"
   ]
  },
  {
   "cell_type": "code",
   "execution_count": 5,
   "metadata": {
    "vscode": {
     "languageId": "r"
    }
   },
   "outputs": [
    {
     "name": "stderr",
     "output_type": "stream",
     "text": [
      "패키지(들)을 'C:/Users/nonel/Documents/R/win-library/4.1'으로부터 제거합니다\n",
      "(왜냐하면 'lib'가 지정되지 않았기 때문입니다)\n",
      "\n"
     ]
    }
   ],
   "source": [
    "remove.packages(\"pillar\")"
   ]
  },
  {
   "cell_type": "code",
   "execution_count": 6,
   "metadata": {
    "vscode": {
     "languageId": "r"
    }
   },
   "outputs": [
    {
     "name": "stderr",
     "output_type": "stream",
     "text": [
      "'C:/Users/nonel/Documents/R/win-library/4.1'의 위치에 패키지(들)을 설치합니다.\n",
      "(왜냐하면 'lib'가 지정되지 않았기 때문입니다)\n",
      "\n"
     ]
    },
    {
     "name": "stdout",
     "output_type": "stream",
     "text": [
      "package 'pillar' successfully unpacked and MD5 sums checked\n",
      "\n",
      "The downloaded binary packages are in\n",
      "\tC:\\Users\\nonel\\AppData\\Local\\Temp\\Rtmp8KsfBc\\downloaded_packages\n"
     ]
    }
   ],
   "source": [
    "install.packages(\"pillar\")"
   ]
  },
  {
   "cell_type": "code",
   "execution_count": 7,
   "metadata": {
    "vscode": {
     "languageId": "r"
    }
   },
   "outputs": [
    {
     "ename": "ERROR",
     "evalue": "Error in value[[3L]](cond): Package 'pillar' version 1.8.1 cannot be unloaded:\n Error in unloadNamespace(package) : 네임스페이스 'pillar'는 'repr', 'tibble'에 의하여 불러들여 왔으나 로드를 할 수는 없습니다\n\n",
     "output_type": "error",
     "traceback": [
      "Error in value[[3L]](cond): Package 'pillar' version 1.8.1 cannot be unloaded:\n Error in unloadNamespace(package) : 네임스페이스 'pillar'는 'repr', 'tibble'에 의하여 불러들여 왔으나 로드를 할 수는 없습니다\n\nTraceback:\n",
      "1. library(pillar)",
      "2. tryCatch(unloadNamespace(package), error = function(e) {\n .     P <- if (!is.null(cc <- conditionCall(e))) \n .         paste(\"Error in\", deparse(cc)[1L], \": \")\n .     else \"Error : \"\n .     stop(gettextf(\"Package %s version %s cannot be unloaded:\\n %s\", \n .         sQuote(package), oldversion, paste0(P, conditionMessage(e), \n .             \"\\n\")), domain = NA)\n . })",
      "3. tryCatchList(expr, classes, parentenv, handlers)",
      "4. tryCatchOne(expr, names, parentenv, handlers[[1L]])",
      "5. value[[3L]](cond)",
      "6. stop(gettextf(\"Package %s version %s cannot be unloaded:\\n %s\", \n .     sQuote(package), oldversion, paste0(P, conditionMessage(e), \n .         \"\\n\")), domain = NA)"
     ]
    }
   ],
   "source": [
    "library(pillar)"
   ]
  },
  {
   "cell_type": "code",
   "execution_count": 1,
   "metadata": {
    "vscode": {
     "languageId": "r"
    }
   },
   "outputs": [
    {
     "name": "stderr",
     "output_type": "stream",
     "text": [
      "패키지(들)을 'C:/Users/nonel/Documents/R/win-library/4.1'으로부터 제거합니다\n",
      "(왜냐하면 'lib'가 지정되지 않았기 때문입니다)\n",
      "\n"
     ]
    },
    {
     "ename": "ERROR",
     "evalue": "Error in find.package(pkgs, lib): 'tidyverse'이라고 불리는 패키지가 없습니다\n",
     "output_type": "error",
     "traceback": [
      "Error in find.package(pkgs, lib): 'tidyverse'이라고 불리는 패키지가 없습니다\nTraceback:\n",
      "1. remove.packages(\"tidyverse\")",
      "2. find.package(pkgs, lib)"
     ]
    }
   ],
   "source": [
    "remove.packages(\"tidyverse\")"
   ]
  },
  {
   "cell_type": "code",
   "execution_count": 2,
   "metadata": {
    "vscode": {
     "languageId": "r"
    }
   },
   "outputs": [
    {
     "name": "stderr",
     "output_type": "stream",
     "text": [
      "'C:/Users/nonel/Documents/R/win-library/4.1'의 위치에 패키지(들)을 설치합니다.\n",
      "(왜냐하면 'lib'가 지정되지 않았기 때문입니다)\n",
      "\n"
     ]
    },
    {
     "name": "stdout",
     "output_type": "stream",
     "text": [
      "package 'tidyverse' successfully unpacked and MD5 sums checked\n",
      "\n",
      "The downloaded binary packages are in\n",
      "\tC:\\Users\\nonel\\AppData\\Local\\Temp\\RtmpUJaJDK\\downloaded_packages\n"
     ]
    }
   ],
   "source": [
    "install.packages(\"tidyverse\")"
   ]
  },
  {
   "cell_type": "code",
   "execution_count": 3,
   "metadata": {
    "vscode": {
     "languageId": "r"
    }
   },
   "outputs": [
    {
     "name": "stderr",
     "output_type": "stream",
     "text": [
      "-- \u001b[1mAttaching core tidyverse packages\u001b[22m ------------------------ tidyverse 2.0.0 --\n",
      "\u001b[32mv\u001b[39m \u001b[34mdplyr    \u001b[39m 1.1.2     \u001b[32mv\u001b[39m \u001b[34mreadr    \u001b[39m 2.1.4\n",
      "\u001b[32mv\u001b[39m \u001b[34mforcats  \u001b[39m 1.0.0     \u001b[32mv\u001b[39m \u001b[34mstringr  \u001b[39m 1.5.0\n",
      "\u001b[32mv\u001b[39m \u001b[34mggplot2  \u001b[39m 3.4.2     \u001b[32mv\u001b[39m \u001b[34mtibble   \u001b[39m 3.2.1\n",
      "\u001b[32mv\u001b[39m \u001b[34mlubridate\u001b[39m 1.9.2     \u001b[32mv\u001b[39m \u001b[34mtidyr    \u001b[39m 1.3.0\n",
      "\u001b[32mv\u001b[39m \u001b[34mpurrr    \u001b[39m 1.0.1     \n",
      "-- \u001b[1mConflicts\u001b[22m ------------------------------------------ tidyverse_conflicts() --\n",
      "\u001b[31mx\u001b[39m \u001b[34mdplyr\u001b[39m::\u001b[32mfilter()\u001b[39m masks \u001b[34mstats\u001b[39m::filter()\n",
      "\u001b[31mx\u001b[39m \u001b[34mdplyr\u001b[39m::\u001b[32mlag()\u001b[39m    masks \u001b[34mstats\u001b[39m::lag()\n",
      "\u001b[36mi\u001b[39m Use the conflicted package (\u001b[3m\u001b[34m<http://conflicted.r-lib.org/>\u001b[39m\u001b[23m) to force all conflicts to become errors\n"
     ]
    }
   ],
   "source": [
    "library(tidyverse)"
   ]
  },
  {
   "cell_type": "code",
   "execution_count": 2,
   "metadata": {
    "vscode": {
     "languageId": "r"
    }
   },
   "outputs": [
    {
     "name": "stderr",
     "output_type": "stream",
     "text": [
      "패키지(들)을 'C:/Users/nonel/Documents/R/win-library/4.1'으로부터 제거합니다\n",
      "(왜냐하면 'lib'가 지정되지 않았기 때문입니다)\n",
      "\n"
     ]
    }
   ],
   "source": [
    "remove.packages(\"tibble\")"
   ]
  },
  {
   "cell_type": "code",
   "execution_count": 3,
   "metadata": {
    "vscode": {
     "languageId": "r"
    }
   },
   "outputs": [
    {
     "name": "stderr",
     "output_type": "stream",
     "text": [
      "'C:/Users/nonel/Documents/R/win-library/4.1'의 위치에 패키지(들)을 설치합니다.\n",
      "(왜냐하면 'lib'가 지정되지 않았기 때문입니다)\n",
      "\n"
     ]
    },
    {
     "name": "stdout",
     "output_type": "stream",
     "text": [
      "package 'tibble' successfully unpacked and MD5 sums checked\n"
     ]
    },
    {
     "name": "stderr",
     "output_type": "stream",
     "text": [
      "Warning message:\n",
      "\"cannot remove prior installation of package 'tibble'\"\n",
      "Warning message in file.copy(savedcopy, lib, recursive = TRUE):\n",
      "\"C:\\Users\\nonel\\Documents\\R\\win-library\\4.1\\00LOCK\\tibble\\libs\\x64\\tibble.dll를 C:\\Users\\nonel\\Documents\\R\\win-library\\4.1\\tibble\\libs\\x64\\tibble.dll로 복사하는데 문제가 발생했습니다: Permission denied\"\n",
      "Warning message:\n",
      "\"restored 'tibble'\"\n"
     ]
    },
    {
     "name": "stdout",
     "output_type": "stream",
     "text": [
      "\n",
      "The downloaded binary packages are in\n",
      "\tC:\\Users\\nonel\\AppData\\Local\\Temp\\Rtmp8S2X8S\\downloaded_packages\n"
     ]
    }
   ],
   "source": [
    "install.packages(\"tibble\")"
   ]
  },
  {
   "cell_type": "code",
   "execution_count": 4,
   "metadata": {
    "vscode": {
     "languageId": "r"
    }
   },
   "outputs": [
    {
     "name": "stderr",
     "output_type": "stream",
     "text": [
      "패키지(들)을 'C:/Users/nonel/Documents/R/win-library/4.1'으로부터 제거합니다\n",
      "(왜냐하면 'lib'가 지정되지 않았기 때문입니다)\n",
      "\n"
     ]
    }
   ],
   "source": [
    "remove.packages(\"purrr\")"
   ]
  },
  {
   "cell_type": "code",
   "execution_count": 5,
   "metadata": {
    "vscode": {
     "languageId": "r"
    }
   },
   "outputs": [
    {
     "name": "stderr",
     "output_type": "stream",
     "text": [
      "'C:/Users/nonel/Documents/R/win-library/4.1'의 위치에 패키지(들)을 설치합니다.\n",
      "(왜냐하면 'lib'가 지정되지 않았기 때문입니다)\n",
      "\n"
     ]
    },
    {
     "name": "stdout",
     "output_type": "stream",
     "text": [
      "package 'purrr' successfully unpacked and MD5 sums checked\n",
      "\n",
      "The downloaded binary packages are in\n",
      "\tC:\\Users\\nonel\\AppData\\Local\\Temp\\RtmpMzfZK5\\downloaded_packages\n"
     ]
    }
   ],
   "source": [
    "install.packages(\"purrr\")"
   ]
  }
 ],
 "metadata": {
  "kernelspec": {
   "display_name": "R",
   "language": "R",
   "name": "ir"
  },
  "language_info": {
   "codemirror_mode": "r",
   "file_extension": ".r",
   "mimetype": "text/x-r-source",
   "name": "R",
   "pygments_lexer": "r",
   "version": "4.1.3"
  },
  "orig_nbformat": 4
 },
 "nbformat": 4,
 "nbformat_minor": 2
}
