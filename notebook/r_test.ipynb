{
 "cells": [
  {
   "cell_type": "code",
   "execution_count": 1,
   "id": "47c2ef26",
   "metadata": {
    "vscode": {
     "languageId": "r"
    }
   },
   "outputs": [
    {
     "data": {
      "text/html": [
       "'c:/Users/nonel/Workspace/r_k3/notebook'"
      ],
      "text/latex": [
       "'c:/Users/nonel/Workspace/r\\_k3/notebook'"
      ],
      "text/markdown": [
       "'c:/Users/nonel/Workspace/r_k3/notebook'"
      ],
      "text/plain": [
       "[1] \"c:/Users/nonel/Workspace/r_k3/notebook\""
      ]
     },
     "metadata": {},
     "output_type": "display_data"
    }
   ],
   "source": [
    "getwd()"
   ]
  }
 ],
 "metadata": {
  "kernelspec": {
   "display_name": "R",
   "language": "R",
   "name": "ir"
  },
  "language_info": {
   "codemirror_mode": "r",
   "file_extension": ".r",
   "mimetype": "text/x-r-source",
   "name": "R",
   "pygments_lexer": "r",
   "version": "4.1.3"
  }
 },
 "nbformat": 4,
 "nbformat_minor": 5
}
